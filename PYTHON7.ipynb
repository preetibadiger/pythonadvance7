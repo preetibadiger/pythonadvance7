{
 "cells": [
  {
   "cell_type": "code",
   "execution_count": null,
   "id": "60a29bbe",
   "metadata": {},
   "outputs": [],
   "source": [
    "Q1. What is the purpose of the try statement?\n",
    "\n",
    "ANS:\n",
    "    The try block lets you test a block of code for errors. The except block lets you handle the error.\n",
    "    The else block lets you execute code when there is no error."
   ]
  },
  {
   "cell_type": "code",
   "execution_count": null,
   "id": "d4a36167",
   "metadata": {},
   "outputs": [],
   "source": [
    "Q2. What are the two most popular try statement variations?\n",
    "\n",
    "ANS:\n",
    "    Error in Python can be of two types i.e. Syntax errors and Exceptions."
   ]
  },
  {
   "cell_type": "code",
   "execution_count": null,
   "id": "289ea408",
   "metadata": {},
   "outputs": [],
   "source": [
    "Q3. What is the purpose of the raise statement?\n",
    "\n",
    "ANS:\n",
    "    Python raise Keyword is used to raise exceptions or errors. The raise keyword raises an error \n",
    "    and stops the control flow of the program. It is used to bring up the current exception in an \n",
    "    exception handler so that it can be handled further up the call stack."
   ]
  },
  {
   "cell_type": "code",
   "execution_count": null,
   "id": "5e476b69",
   "metadata": {},
   "outputs": [],
   "source": [
    "Q4. What does the assert statement do, and what other statement is it like?\n",
    "\n",
    "ANS:\n",
    "    assert statement takes an expression and optional message. assert statement is used to check types,\n",
    "    values of argument and the output of the function. assert statement is used as debugging tool as it halts \n",
    "    the program at the point where an error occurs."
   ]
  },
  {
   "cell_type": "code",
   "execution_count": null,
   "id": "11bf12c7",
   "metadata": {},
   "outputs": [],
   "source": [
    "Q5. What is the purpose of the with/as argument, and what other statement is it like?\n",
    "\n",
    "ANS:\n",
    "    In python the with keyword is used when working with unmanaged resources (like file streams). \n",
    "    It is similar to the using statement in VB.NET . It allows you to ensure that a resource is \"cleaned up\" \n",
    "    when the code that uses it finishes running, even if exceptions are thrown."
   ]
  }
 ],
 "metadata": {
  "kernelspec": {
   "display_name": "Python 3 (ipykernel)",
   "language": "python",
   "name": "python3"
  },
  "language_info": {
   "codemirror_mode": {
    "name": "ipython",
    "version": 3
   },
   "file_extension": ".py",
   "mimetype": "text/x-python",
   "name": "python",
   "nbconvert_exporter": "python",
   "pygments_lexer": "ipython3",
   "version": "3.9.7"
  }
 },
 "nbformat": 4,
 "nbformat_minor": 5
}
